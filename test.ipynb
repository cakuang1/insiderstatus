{
 "cells": [
  {
   "cell_type": "code",
   "execution_count": 1,
   "metadata": {},
   "outputs": [
    {
     "data": {
      "text/plain": [
       "{'c': 429.37,\n",
       " 'd': -0.6,\n",
       " 'dp': -0.1395,\n",
       " 'h': 430.77,\n",
       " 'l': 421.5,\n",
       " 'o': 426.02,\n",
       " 'pc': 429.97,\n",
       " 't': 1686849702}"
      ]
     },
     "execution_count": 1,
     "metadata": {},
     "output_type": "execute_result"
    }
   ],
   "source": [
    "import finnhub\n",
    "\n",
    "\n",
    "api_key = os.getenv('FH_KEY')\n",
    "finnhub_client = finnhub.Client(api_key = api_key)\n",
    "response = finnhub_client.quote('NVDA') \n",
    "response\n",
    "\n",
    "\n",
    "\n",
    "\n",
    "\n"
   ]
  },
  {
   "cell_type": "code",
   "execution_count": 17,
   "metadata": {},
   "outputs": [
    {
     "ename": "AttributeError",
     "evalue": "'dict' object has no attribute 'value'",
     "output_type": "error",
     "traceback": [
      "\u001b[1;31m---------------------------------------------------------------------------\u001b[0m",
      "\u001b[1;31mAttributeError\u001b[0m                            Traceback (most recent call last)",
      "Cell \u001b[1;32mIn[17], line 30\u001b[0m\n\u001b[0;32m     28\u001b[0m     time\u001b[39m.\u001b[39msleep(\u001b[39m10\u001b[39m)\n\u001b[0;32m     29\u001b[0m     message \u001b[39m=\u001b[39m {\u001b[39m'\u001b[39m\u001b[39mtest\u001b[39m\u001b[39m'\u001b[39m : i}\n\u001b[1;32m---> 30\u001b[0m     producer\u001b[39m.\u001b[39msend(\u001b[39m'\u001b[39m\u001b[39mstockquotes\u001b[39m\u001b[39m'\u001b[39m,message\u001b[39m.\u001b[39;49mvalue)\n\u001b[0;32m     37\u001b[0m producer\u001b[39m.\u001b[39mclose()\n",
      "\u001b[1;31mAttributeError\u001b[0m: 'dict' object has no attribute 'value'"
     ]
    }
   ],
   "source": [
    "import psycopg2\n",
    "import boto3\n",
    "\n",
    "# Redshift connection details\n",
    "redshift_host = 'your_redshift_host'\n",
    "redshift_port = 'your_redshift_port'\n",
    "redshift_dbname = 'your_redshift_dbname'\n",
    "redshift_user = 'your_redshift_username'\n",
    "redshift_password = 'your_redshift_password'\n",
    "\n",
    "# S3 credentials\n",
    "aws_access_key_id = 'your_aws_access_key_id'\n",
    "aws_secret_access_key = 'your_aws_secret_access_key'\n",
    "\n",
    "# S3 details\n",
    "s3_bucket = 'your_s3_bucket'\n",
    "s3_key = 'path/to/file.csv'\n",
    "\n",
    "# Redshift table details\n",
    "redshift_schema = 'your_redshift_schema'\n",
    "redshift_table = 'your_redshift_table'"
   ]
  },
  {
   "cell_type": "code",
   "execution_count": null,
   "metadata": {},
   "outputs": [
    {
     "name": "stdout",
     "output_type": "stream",
     "text": [
      "Received message: {}\n",
      "Received message: {}\n",
      "Received message: {}\n",
      "Received message: {}\n"
     ]
    }
   ],
   "source": []
  },
  {
   "cell_type": "code",
   "execution_count": null,
   "metadata": {},
   "outputs": [],
   "source": [
    "import boto3\n",
    "import os\n",
    "from dotenv import load_dotenv\n",
    "from datetime import datetime\n",
    "\n",
    "\n",
    "\n",
    "\n",
    "\n",
    "load_dotenv('.env')\n",
    "\n",
    "\n",
    "access_key = os.getenv('aws_access_key_id')\n",
    "secret_key = os.getenv('aws_secret_access_key')\n",
    "bucket_name = os.getenv('bucketname')\n",
    "current_date = datetime.now().strftime(\"%m-%d-%Y\")\n",
    "\n",
    "\n",
    "\n",
    "\n",
    "\n",
    "\n",
    "\n",
    "key = f'insider/{current_date}.csv'  # Key represents the file path in the S3 bucket\n",
    "\n",
    "\n",
    "# Create an S3 client\n",
    "s3_client = boto3.client('s3', aws_access_key_id=access_key, aws_secret_access_key=secret_key)\n",
    "\n",
    "# Upload the file to S3\n",
    "s3_client.upload_file(f'./test.csv', bucket_name, key)"
   ]
  },
  {
   "cell_type": "code",
   "execution_count": null,
   "metadata": {},
   "outputs": [],
   "source": []
  }
 ],
 "metadata": {
  "kernelspec": {
   "display_name": "Python 3",
   "language": "python",
   "name": "python3"
  },
  "language_info": {
   "codemirror_mode": {
    "name": "ipython",
    "version": 3
   },
   "file_extension": ".py",
   "mimetype": "text/x-python",
   "name": "python",
   "nbconvert_exporter": "python",
   "pygments_lexer": "ipython3",
   "version": "3.11.3"
  },
  "orig_nbformat": 4
 },
 "nbformat": 4,
 "nbformat_minor": 2
}
