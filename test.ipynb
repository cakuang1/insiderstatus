{
 "cells": [
  {
   "cell_type": "code",
   "execution_count": 1,
   "metadata": {},
   "outputs": [
    {
     "data": {
      "text/plain": [
       "{'c': 429.37,\n",
       " 'd': -0.6,\n",
       " 'dp': -0.1395,\n",
       " 'h': 430.77,\n",
       " 'l': 421.5,\n",
       " 'o': 426.02,\n",
       " 'pc': 429.97,\n",
       " 't': 1686849702}"
      ]
     },
     "execution_count": 1,
     "metadata": {},
     "output_type": "execute_result"
    }
   ],
   "source": [
    "import finnhub\n",
    "import os\n",
    "from dotenv import load_dotenv\n",
    "load_dotenv('.env')\n",
    "\n",
    "api_key = os.getenv('FH_KEY')\n",
    "finnhub_client = finnhub.Client(api_key = api_key)\n",
    "response = finnhub_client.quote('NVDA') \n",
    "response\n",
    "\n",
    "\n",
    "\n",
    "\n",
    "\n"
   ]
  },
  {
   "cell_type": "code",
   "execution_count": 17,
   "metadata": {},
   "outputs": [
    {
     "ename": "AttributeError",
     "evalue": "'dict' object has no attribute 'value'",
     "output_type": "error",
     "traceback": [
      "\u001b[1;31m---------------------------------------------------------------------------\u001b[0m",
      "\u001b[1;31mAttributeError\u001b[0m                            Traceback (most recent call last)",
      "Cell \u001b[1;32mIn[17], line 30\u001b[0m\n\u001b[0;32m     28\u001b[0m     time\u001b[39m.\u001b[39msleep(\u001b[39m10\u001b[39m)\n\u001b[0;32m     29\u001b[0m     message \u001b[39m=\u001b[39m {\u001b[39m'\u001b[39m\u001b[39mtest\u001b[39m\u001b[39m'\u001b[39m : i}\n\u001b[1;32m---> 30\u001b[0m     producer\u001b[39m.\u001b[39msend(\u001b[39m'\u001b[39m\u001b[39mstockquotes\u001b[39m\u001b[39m'\u001b[39m,message\u001b[39m.\u001b[39;49mvalue)\n\u001b[0;32m     37\u001b[0m producer\u001b[39m.\u001b[39mclose()\n",
      "\u001b[1;31mAttributeError\u001b[0m: 'dict' object has no attribute 'value'"
     ]
    }
   ],
   "source": [
    "from kafka import KafkaProducer\n",
    "import json\n",
    "from dotenv import load_dotenv\n",
    "import os\n",
    "# Load variables from .env file\n",
    "load_dotenv('.env')\n",
    "\n",
    "# Access the variables\n",
    "pw = os.getenv('uspw')\n",
    "import time\n",
    "\n",
    "\n",
    "producer = KafkaProducer(\n",
    "  bootstrap_servers=['equal-owl-9135-us1-kafka.upstash.io:9092'],\n",
    "  sasl_mechanism='SCRAM-SHA-256',\n",
    "  security_protocol='SASL_SSL',\n",
    "  sasl_plain_username='ZXF1YWwtb3dsLTkxMzUkXx5J8vYxwycFJ6cLxNilKEWjb-e9US4xNfsLc0abcOo',\n",
    "  sasl_plain_password= pw,\n",
    "  value_serializer=lambda v: json.dumps(v).encode('utf-8'),\n",
    ")\n",
    "\n",
    "\n",
    "\n",
    "\n",
    "\n",
    "for i in range(1,1000):\n",
    "    time.sleep(10)\n",
    "    message = {'test' : i}\n",
    "    producer.send('stockquotes',message)\n",
    "    \n",
    "\n",
    "producer.close()"
   ]
  },
  {
   "cell_type": "code",
   "execution_count": null,
   "metadata": {},
   "outputs": [
    {
     "name": "stdout",
     "output_type": "stream",
     "text": [
      "Received message: {}\n",
      "Received message: {}\n",
      "Received message: {}\n",
      "Received message: {}\n"
     ]
    }
   ],
   "source": []
  },
  {
   "cell_type": "code",
   "execution_count": null,
   "metadata": {},
   "outputs": [],
   "source": []
  }
 ],
 "metadata": {
  "kernelspec": {
   "display_name": "Python 3",
   "language": "python",
   "name": "python3"
  },
  "language_info": {
   "codemirror_mode": {
    "name": "ipython",
    "version": 3
   },
   "file_extension": ".py",
   "mimetype": "text/x-python",
   "name": "python",
   "nbconvert_exporter": "python",
   "pygments_lexer": "ipython3",
   "version": "3.11.3"
  },
  "orig_nbformat": 4
 },
 "nbformat": 4,
 "nbformat_minor": 2
}
